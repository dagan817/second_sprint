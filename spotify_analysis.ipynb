{
 "cells": [
  {
   "cell_type": "code",
   "execution_count": 1,
   "metadata": {},
   "outputs": [],
   "source": [
    "import pandas as pd\n",
    "\n",
    "# Load the data using Pandas\n",
    "data = pd.read_csv('spotifytoptracks.csv')"
   ]
  },
  {
   "cell_type": "code",
   "execution_count": 2,
   "metadata": {},
   "outputs": [],
   "source": [
    "# Perform data cleaning\n",
    "\n",
    "# Handling missing values\n",
    "data.dropna(inplace=True)\n",
    "\n",
    "# Removing duplicate samples and features\n",
    "data.drop_duplicates(inplace=True)\n",
    "\n",
    "# Treating the outliers (if necessary)"
   ]
  },
  {
   "cell_type": "code",
   "execution_count": 3,
   "metadata": {},
   "outputs": [
    {
     "name": "stdout",
     "output_type": "stream",
     "text": [
      "Number of observations: 50\n"
     ]
    }
   ],
   "source": [
    "# How many observations are there in this dataset?\n",
    "num_observations = len(data)\n",
    "print(\"Number of observations:\", num_observations)"
   ]
  },
  {
   "cell_type": "code",
   "execution_count": 4,
   "metadata": {},
   "outputs": [
    {
     "name": "stdout",
     "output_type": "stream",
     "text": [
      "Number of features: 17\n"
     ]
    }
   ],
   "source": [
    "# How many features this dataset has?\n",
    "num_features = len(data.columns)\n",
    "print(\"Number of features:\", num_features)"
   ]
  },
  {
   "cell_type": "code",
   "execution_count": 5,
   "metadata": {},
   "outputs": [],
   "source": [
    "# Identify categorical and numeric features\n",
    "categorical_features = ['artist', 'album', 'track_name', 'track_id', 'genre']\n",
    "numeric_features = ['energy', 'danceability', 'key', 'loudness', 'acousticness', 'speechiness', 'instrumentalness', 'liveness', 'valence', 'tempo', 'duration_ms']"
   ]
  },
  {
   "cell_type": "code",
   "execution_count": 32,
   "metadata": {},
   "outputs": [
    {
     "name": "stdout",
     "output_type": "stream",
     "text": [
      "Number of artists with more than 1 popular track: 7\n",
      "Popular artists with their track count:\n",
      "artist\n",
      "Billie Eilish    3\n",
      "Dua Lipa         3\n",
      "Travis Scott     3\n",
      "Justin Bieber    2\n",
      "Harry Styles     2\n",
      "Lewis Capaldi    2\n",
      "Post Malone      2\n",
      "Name: count, dtype: int64\n"
     ]
    }
   ],
   "source": [
    "# Are there any artists that have more than 1 popular track? If yes, which and how many?\n",
    "popular_artists = data['artist'].value_counts()\n",
    "popular_artists = popular_artists[popular_artists > 1]\n",
    "num_popular_artists = len(popular_artists)\n",
    "print(\"Number of artists with more than 1 popular track:\", num_popular_artists)\n",
    "print(\"Popular artists with their track count:\")\n",
    "print(popular_artists)"
   ]
  },
  {
   "cell_type": "code",
   "execution_count": 7,
   "metadata": {},
   "outputs": [
    {
     "name": "stdout",
     "output_type": "stream",
     "text": [
      "Most popular artist:\n",
      "Billie Eilish\n",
      "Dua Lipa\n",
      "Travis Scott\n"
     ]
    }
   ],
   "source": [
    "# Who was the most popular artist?\n",
    "most_popular_count = popular_artists.max()\n",
    "most_popular_artists = popular_artists[popular_artists == most_popular_count].index.tolist()\n",
    "\n",
    "if len(most_popular_artists) == 1:\n",
    "    most_popular_artist = most_popular_artists[0]\n",
    "    print(\"Most popular artist:\", most_popular_artist)\n",
    "else:\n",
    "    print(\"Most popular artist:\")\n",
    "    for artist in most_popular_artists:\n",
    "        print(artist)"
   ]
  },
  {
   "cell_type": "code",
   "execution_count": 8,
   "metadata": {},
   "outputs": [
    {
     "name": "stdout",
     "output_type": "stream",
     "text": [
      "Number of artists in total in the top 50: 40\n"
     ]
    }
   ],
   "source": [
    "# How many artists in total have their songs in the top 50?\n",
    "num_artists_in_top_50 = len(data['artist'].unique())\n",
    "print(\"Number of artists in total in the top 50:\", num_artists_in_top_50)"
   ]
  },
  {
   "cell_type": "code",
   "execution_count": 9,
   "metadata": {},
   "outputs": [
    {
     "name": "stdout",
     "output_type": "stream",
     "text": [
      "Number of albums with more than 1 popular track: 4\n",
      "Popular albums with their track count:\n",
      "album\n",
      "Future Nostalgia        3\n",
      "Hollywood's Bleeding    2\n",
      "Fine Line               2\n",
      "Changes                 2\n",
      "Name: count, dtype: int64\n"
     ]
    }
   ],
   "source": [
    "# Are there any albums that have more than 1 popular track? If yes, which and how many?\n",
    "popular_albums = data['album'].value_counts()\n",
    "popular_albums = popular_albums[popular_albums > 1]\n",
    "num_popular_albums = len(popular_albums)\n",
    "print(\"Number of albums with more than 1 popular track:\", num_popular_albums)\n",
    "print(\"Popular albums with their track count:\")\n",
    "print(popular_albums)"
   ]
  },
  {
   "cell_type": "code",
   "execution_count": 10,
   "metadata": {},
   "outputs": [
    {
     "name": "stdout",
     "output_type": "stream",
     "text": [
      "Number of albums in total in the top 50: 45\n"
     ]
    }
   ],
   "source": [
    "# How many albums in total have their songs in the top 50?\n",
    "num_albums_in_top_50 = len(data['album'].unique())\n",
    "print(\"Number of albums in total in the top 50:\", num_albums_in_top_50)"
   ]
  },
  {
   "cell_type": "code",
   "execution_count": 11,
   "metadata": {},
   "outputs": [
    {
     "name": "stdout",
     "output_type": "stream",
     "text": [
      "Tracks with danceability score above 0.7:\n",
      "1                                      Dance Monkey\n",
      "2                                           The Box\n",
      "3                             Roses - Imanbek Remix\n",
      "4                                   Don't Start Now\n",
      "5                      ROCKSTAR (feat. Roddy Ricch)\n",
      "7                  death bed (coffee for your head)\n",
      "8                                           Falling\n",
      "10                                             Tusa\n",
      "13                                  Blueberry Faygo\n",
      "14                         Intentions (feat. Quavo)\n",
      "15                                     Toosie Slide\n",
      "17                                           Say So\n",
      "18                                         Memories\n",
      "19                       Life Is Good (feat. Drake)\n",
      "20                 Savage Love (Laxed - Siren Beat)\n",
      "22                                      Breaking Me\n",
      "24                              everything i wanted\n",
      "25                                         Señorita\n",
      "26                                          bad guy\n",
      "27                  WAP (feat. Megan Thee Stallion)\n",
      "28                                      Sunday Best\n",
      "29                      Godzilla (feat. Juice WRLD)\n",
      "31                                   Break My Heart\n",
      "32                                         Dynamite\n",
      "33                 Supalonely (feat. Gus Dapperton)\n",
      "37    Sunflower - Spider-Man: Into the Spider-Verse\n",
      "38                                            Hawái\n",
      "39                                          Ride It\n",
      "40                                       goosebumps\n",
      "41                        RITMO (Bad Boys For Life)\n",
      "42                                       THE SCOTTS\n",
      "49                                       SICKO MODE\n",
      "Name: track_name, dtype: object\n"
     ]
    }
   ],
   "source": [
    "# Which tracks have a danceability score above 0.7?\n",
    "tracks_above_07_danceability = data[data['danceability'] > 0.7]['track_name']\n",
    "print(\"Tracks with danceability score above 0.7:\")\n",
    "print(tracks_above_07_danceability)"
   ]
  },
  {
   "cell_type": "code",
   "execution_count": 12,
   "metadata": {},
   "outputs": [
    {
     "name": "stdout",
     "output_type": "stream",
     "text": [
      "Tracks with danceability score below 0.4:\n",
      "44    lovely (with Khalid)\n",
      "Name: track_name, dtype: object\n"
     ]
    }
   ],
   "source": [
    "# Which tracks have a danceability score below 0.4?\n",
    "tracks_below_04_danceability = data[data['danceability'] < 0.4]['track_name']\n",
    "print(\"Tracks with danceability score below 0.4:\")\n",
    "print(tracks_below_04_danceability)"
   ]
  },
  {
   "cell_type": "code",
   "execution_count": 13,
   "metadata": {},
   "outputs": [
    {
     "name": "stdout",
     "output_type": "stream",
     "text": [
      "Tracks with loudness above -5:\n",
      "4                                   Don't Start Now\n",
      "6                                  Watermelon Sugar\n",
      "10                                             Tusa\n",
      "12                                          Circles\n",
      "16                                    Before You Go\n",
      "17                                           Say So\n",
      "21                                        Adore You\n",
      "23                           Mood (feat. iann dior)\n",
      "31                                   Break My Heart\n",
      "32                                         Dynamite\n",
      "33                 Supalonely (feat. Gus Dapperton)\n",
      "35                  Rain On Me (with Ariana Grande)\n",
      "37    Sunflower - Spider-Man: Into the Spider-Verse\n",
      "38                                            Hawái\n",
      "39                                          Ride It\n",
      "40                                       goosebumps\n",
      "43                                          Safaera\n",
      "48                                         Physical\n",
      "49                                       SICKO MODE\n",
      "Name: track_name, dtype: object\n"
     ]
    }
   ],
   "source": [
    "# Which tracks have their loudness above -5?\n",
    "tracks_above_neg5_loudness = data[data['loudness'] > -5]['track_name']\n",
    "print(\"Tracks with loudness above -5:\")\n",
    "print(tracks_above_neg5_loudness)"
   ]
  },
  {
   "cell_type": "code",
   "execution_count": 14,
   "metadata": {},
   "outputs": [
    {
     "name": "stdout",
     "output_type": "stream",
     "text": [
      "Tracks with loudness below -8:\n",
      "7                   death bed (coffee for your head)\n",
      "8                                            Falling\n",
      "15                                      Toosie Slide\n",
      "20                  Savage Love (Laxed - Siren Beat)\n",
      "24                               everything i wanted\n",
      "26                                           bad guy\n",
      "36                               HIGHEST IN THE ROOM\n",
      "44                              lovely (with Khalid)\n",
      "47    If the World Was Ending - feat. Julia Michaels\n",
      "Name: track_name, dtype: object\n"
     ]
    }
   ],
   "source": [
    "# Which tracks have their loudness below -8?\n",
    "tracks_below_neg8_loudness = data[data['loudness'] < -8]['track_name']\n",
    "print(\"Tracks with loudness below -8:\")\n",
    "print(tracks_below_neg8_loudness)"
   ]
  },
  {
   "cell_type": "code",
   "execution_count": 15,
   "metadata": {},
   "outputs": [
    {
     "name": "stdout",
     "output_type": "stream",
     "text": [
      "Longest track: SICKO MODE\n"
     ]
    }
   ],
   "source": [
    "# Which track is the longest?\n",
    "longest_track = data[data['duration_ms'] == data['duration_ms'].max()]['track_name'].iloc[0]\n",
    "print(\"Longest track:\", longest_track)"
   ]
  },
  {
   "cell_type": "code",
   "execution_count": 16,
   "metadata": {},
   "outputs": [
    {
     "name": "stdout",
     "output_type": "stream",
     "text": [
      "Shortest track: Mood (feat. iann dior)\n"
     ]
    }
   ],
   "source": [
    "# Which track is the shortest?\n",
    "shortest_track = data[data['duration_ms'] == data['duration_ms'].min()]['track_name'].iloc[0]\n",
    "print(\"Shortest track:\", shortest_track)"
   ]
  },
  {
   "cell_type": "code",
   "execution_count": 17,
   "metadata": {},
   "outputs": [
    {
     "name": "stdout",
     "output_type": "stream",
     "text": [
      "Most popular genre: Pop\n"
     ]
    }
   ],
   "source": [
    "# Which genre is the most popular?\n",
    "most_popular_genre = data['genre'].value_counts().idxmax()\n",
    "print(\"Most popular genre:\", most_popular_genre)"
   ]
  },
  {
   "cell_type": "code",
   "execution_count": 18,
   "metadata": {},
   "outputs": [
    {
     "name": "stdout",
     "output_type": "stream",
     "text": [
      "Genres with just one song on the top 50:\n",
      "genre\n",
      "Nu-disco                              1\n",
      "R&B/Hip-Hop alternative               1\n",
      "Pop/Soft Rock                         1\n",
      "Pop rap                               1\n",
      "Hip-Hop/Trap                          1\n",
      "Dance-pop/Disco                       1\n",
      "Disco-pop                             1\n",
      "Dreampop/Hip-Hop/R&B                  1\n",
      "Alternative/reggaeton/experimental    1\n",
      "Chamber pop                           1\n",
      "Name: count, dtype: int64\n"
     ]
    }
   ],
   "source": [
    "# Which genres have just one song on the top 50?\n",
    "genres_with_single_song = data['genre'].value_counts()[data['genre'].value_counts() == 1]\n",
    "print(\"Genres with just one song on the top 50:\")\n",
    "print(genres_with_single_song)"
   ]
  },
  {
   "cell_type": "code",
   "execution_count": 19,
   "metadata": {},
   "outputs": [
    {
     "name": "stdout",
     "output_type": "stream",
     "text": [
      "Number of genres in total in the top 50: 16\n"
     ]
    }
   ],
   "source": [
    "# How many genres in total are represented in the top 50?\n",
    "num_genres_in_top_50 = len(data['genre'].unique())\n",
    "print(\"Number of genres in total in the top 50:\", num_genres_in_top_50)"
   ]
  },
  {
   "cell_type": "code",
   "execution_count": 20,
   "metadata": {},
   "outputs": [],
   "source": [
    "# Calculate correlation matrix\n",
    "correlation_matrix = data[numeric_features].corr()"
   ]
  },
  {
   "cell_type": "code",
   "execution_count": 21,
   "metadata": {},
   "outputs": [
    {
     "name": "stdout",
     "output_type": "stream",
     "text": [
      "Features strongly positively correlated:\n",
      "MultiIndex([(          'energy',           'energy'),\n",
      "            (          'energy',         'loudness'),\n",
      "            (    'danceability',     'danceability'),\n",
      "            (             'key',              'key'),\n",
      "            (        'loudness',           'energy'),\n",
      "            (        'loudness',         'loudness'),\n",
      "            (    'acousticness',     'acousticness'),\n",
      "            (     'speechiness',      'speechiness'),\n",
      "            ('instrumentalness', 'instrumentalness'),\n",
      "            (        'liveness',         'liveness'),\n",
      "            (         'valence',          'valence'),\n",
      "            (           'tempo',            'tempo'),\n",
      "            (     'duration_ms',      'duration_ms')],\n",
      "           )\n"
     ]
    }
   ],
   "source": [
    "# Identify strongly positively correlated features\n",
    "strong_pos_corr_features = correlation_matrix[correlation_matrix > 0.7].stack().dropna().index\n",
    "print(\"Features strongly positively correlated:\")\n",
    "print(strong_pos_corr_features)"
   ]
  },
  {
   "cell_type": "code",
   "execution_count": 22,
   "metadata": {},
   "outputs": [
    {
     "name": "stdout",
     "output_type": "stream",
     "text": [
      "Features strongly negatively correlated:\n",
      "MultiIndex([], )\n"
     ]
    }
   ],
   "source": [
    "# Identify strongly negatively correlated features\n",
    "strong_neg_corr_features = correlation_matrix[correlation_matrix < -0.7].stack().dropna().index\n",
    "print(\"Features strongly negatively correlated:\")\n",
    "print(strong_neg_corr_features)"
   ]
  },
  {
   "cell_type": "code",
   "execution_count": 23,
   "metadata": {},
   "outputs": [
    {
     "name": "stdout",
     "output_type": "stream",
     "text": [
      "Features that are not correlated:\n",
      "MultiIndex([(          'energy',     'danceability'),\n",
      "            (          'energy',              'key'),\n",
      "            (          'energy',      'speechiness'),\n",
      "            (          'energy',         'liveness'),\n",
      "            (          'energy',            'tempo'),\n",
      "            (          'energy',      'duration_ms'),\n",
      "            (    'danceability',           'energy'),\n",
      "            (    'danceability',         'loudness'),\n",
      "            (    'danceability', 'instrumentalness'),\n",
      "            (    'danceability',         'liveness'),\n",
      "            (    'danceability',            'tempo'),\n",
      "            (    'danceability',      'duration_ms'),\n",
      "            (             'key',           'energy'),\n",
      "            (             'key',         'loudness'),\n",
      "            (             'key',     'acousticness'),\n",
      "            (             'key',      'speechiness'),\n",
      "            (             'key', 'instrumentalness'),\n",
      "            (             'key',          'valence'),\n",
      "            (             'key',            'tempo'),\n",
      "            (             'key',      'duration_ms'),\n",
      "            (        'loudness',     'danceability'),\n",
      "            (        'loudness',              'key'),\n",
      "            (        'loudness',      'speechiness'),\n",
      "            (        'loudness',         'liveness'),\n",
      "            (        'loudness',            'tempo'),\n",
      "            (        'loudness',      'duration_ms'),\n",
      "            (    'acousticness',              'key'),\n",
      "            (    'acousticness',      'speechiness'),\n",
      "            (    'acousticness',         'liveness'),\n",
      "            (    'acousticness',      'duration_ms'),\n",
      "            (     'speechiness',           'energy'),\n",
      "            (     'speechiness',              'key'),\n",
      "            (     'speechiness',         'loudness'),\n",
      "            (     'speechiness',     'acousticness'),\n",
      "            (     'speechiness', 'instrumentalness'),\n",
      "            (     'speechiness',         'liveness'),\n",
      "            (     'speechiness',          'valence'),\n",
      "            ('instrumentalness',     'danceability'),\n",
      "            ('instrumentalness',              'key'),\n",
      "            ('instrumentalness',      'speechiness'),\n",
      "            ('instrumentalness',         'liveness'),\n",
      "            ('instrumentalness',            'tempo'),\n",
      "            ('instrumentalness',      'duration_ms'),\n",
      "            (        'liveness',           'energy'),\n",
      "            (        'liveness',     'danceability'),\n",
      "            (        'liveness',         'loudness'),\n",
      "            (        'liveness',     'acousticness'),\n",
      "            (        'liveness',      'speechiness'),\n",
      "            (        'liveness', 'instrumentalness'),\n",
      "            (        'liveness',          'valence'),\n",
      "            (        'liveness',            'tempo'),\n",
      "            (        'liveness',      'duration_ms'),\n",
      "            (         'valence',              'key'),\n",
      "            (         'valence',      'speechiness'),\n",
      "            (         'valence',         'liveness'),\n",
      "            (         'valence',            'tempo'),\n",
      "            (         'valence',      'duration_ms'),\n",
      "            (           'tempo',           'energy'),\n",
      "            (           'tempo',     'danceability'),\n",
      "            (           'tempo',              'key'),\n",
      "            (           'tempo',         'loudness'),\n",
      "            (           'tempo', 'instrumentalness'),\n",
      "            (           'tempo',         'liveness'),\n",
      "            (           'tempo',          'valence'),\n",
      "            (           'tempo',      'duration_ms'),\n",
      "            (     'duration_ms',           'energy'),\n",
      "            (     'duration_ms',     'danceability'),\n",
      "            (     'duration_ms',              'key'),\n",
      "            (     'duration_ms',         'loudness'),\n",
      "            (     'duration_ms',     'acousticness'),\n",
      "            (     'duration_ms', 'instrumentalness'),\n",
      "            (     'duration_ms',         'liveness'),\n",
      "            (     'duration_ms',          'valence'),\n",
      "            (     'duration_ms',            'tempo')],\n",
      "           )\n"
     ]
    }
   ],
   "source": [
    "# Identify features that are not correlated\n",
    "uncorrelated_features = correlation_matrix[(correlation_matrix >= -0.2) & (correlation_matrix <= 0.2)].stack().dropna().index\n",
    "print(\"Features that are not correlated:\")\n",
    "print(uncorrelated_features)"
   ]
  },
  {
   "cell_type": "code",
   "execution_count": 24,
   "metadata": {},
   "outputs": [
    {
     "name": "stdout",
     "output_type": "stream",
     "text": [
      "Average danceability score by genre:\n",
      "Series([], Name: danceability, dtype: float64)\n"
     ]
    }
   ],
   "source": [
    "# Compare danceability score between genres\n",
    "danceability_by_genre = data[data['genre'].isin(['pop', 'hip-hop/rap', 'dance/electronic', 'alternative/indie'])].groupby('genre')['danceability'].mean()\n",
    "print(\"Average danceability score by genre:\")\n",
    "print(danceability_by_genre)"
   ]
  },
  {
   "cell_type": "code",
   "execution_count": 25,
   "metadata": {},
   "outputs": [
    {
     "name": "stdout",
     "output_type": "stream",
     "text": [
      "Average loudness score by genre:\n",
      "Series([], Name: loudness, dtype: float64)\n"
     ]
    }
   ],
   "source": [
    "# Compare loudness score between genres\n",
    "loudness_by_genre = data[data['genre'].isin(['pop', 'hip-hop/rap', 'dance/electronic', 'alternative/indie'])].groupby('genre')['loudness'].mean()\n",
    "print(\"Average loudness score by genre:\")\n",
    "print(loudness_by_genre)"
   ]
  },
  {
   "cell_type": "code",
   "execution_count": 26,
   "metadata": {},
   "outputs": [
    {
     "name": "stdout",
     "output_type": "stream",
     "text": [
      "Average acousticness score by genre:\n",
      "Series([], Name: acousticness, dtype: float64)\n"
     ]
    }
   ],
   "source": [
    "# Compare acousticness score between genres\n",
    "acousticness_by_genre = data[data['genre'].isin(['pop', 'hip-hop/rap', 'dance/electronic', 'alternative/indie'])].groupby('genre')['acousticness'].mean()\n",
    "print(\"Average acousticness score by genre:\")\n",
    "print(acousticness_by_genre)"
   ]
  },
  {
   "cell_type": "code",
   "execution_count": 27,
   "metadata": {},
   "outputs": [],
   "source": [
    "# Provide suggestions for improving the analysis\n",
    "\n",
    "# You can further explore the relationships between different features using visualizations such as scatter plots, box plots, or histograms.\n",
    "# Consider analyzing the distribution of each feature to identify any outliers or anomalies.\n",
    "# You can perform hypothesis testing or statistical analysis to identify significant differences between genres or other categorical variables.\n",
    "# Consider incorporating other external datasets or features that may provide additional insights or context to the analysis.\n",
    "# It is important to ensure the data quality and accuracy by verifying the sources and conducting data validation or cross-checks.\n",
    "# Document your analysis steps, assumptions, and any limitations to facilitate reproducibility and transparency."
   ]
  }
 ],
 "metadata": {
  "kernelspec": {
   "display_name": "Python 3",
   "language": "python",
   "name": "python3"
  },
  "language_info": {
   "codemirror_mode": {
    "name": "ipython",
    "version": 3
   },
   "file_extension": ".py",
   "mimetype": "text/x-python",
   "name": "python",
   "nbconvert_exporter": "python",
   "pygments_lexer": "ipython3",
   "version": "3.10.8"
  },
  "orig_nbformat": 4
 },
 "nbformat": 4,
 "nbformat_minor": 2
}
